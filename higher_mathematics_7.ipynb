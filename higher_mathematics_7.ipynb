{
 "cells": [
  {
   "cell_type": "markdown",
   "metadata": {},
   "source": [
    "1. Даны значения величины заработной платы заемщиков банка (zp) и значения их поведенческого кредитного скоринга (ks): zp = [35, 45, 190, 200, 40, 70, 54, 150, 120, 110], ks = [401, 574, 874, 919, 459, 739, 653, 902, 746, 832]. Используя математические операции, посчитать коэффициенты линейной регрессии, приняв за X заработную плату (то есть, zp - признак), а за y - значения скорингового балла (то есть, ks - целевая переменная). Произвести расчет как с использованием intercept, так и без."
   ]
  },
  {
   "cell_type": "code",
   "execution_count": 30,
   "metadata": {},
   "outputs": [],
   "source": [
    "import numpy as np\n",
    "import matplotlib.pyplot as plt\n",
    "%matplotlib inline"
   ]
  },
  {
   "cell_type": "code",
   "execution_count": 31,
   "metadata": {},
   "outputs": [],
   "source": [
    "X = np.array([35, 45, 190, 200, 40, 70, 54, 150, 120, 110])\n",
    "y = np.array([401, 574, 874, 919, 459, 739, 653, 902, 746, 832])"
   ]
  },
  {
   "cell_type": "markdown",
   "metadata": {},
   "source": [
    "с интерсептом:"
   ]
  },
  {
   "cell_type": "code",
   "execution_count": 32,
   "metadata": {},
   "outputs": [
    {
     "data": {
      "text/plain": [
       "10"
      ]
     },
     "execution_count": 32,
     "metadata": {},
     "output_type": "execute_result"
    }
   ],
   "source": [
    "n = 10\n",
    "n"
   ]
  },
  {
   "cell_type": "code",
   "execution_count": 33,
   "metadata": {},
   "outputs": [
    {
     "data": {
      "text/plain": [
       "2.6205388824027653"
      ]
     },
     "execution_count": 33,
     "metadata": {},
     "output_type": "execute_result"
    }
   ],
   "source": [
    "b = (n * (np.sum(X*y)) - (np.sum(X) * np.sum(y))) / (n * (np.sum(X**2)) - (np.sum(X)**2))\n",
    "b"
   ]
  },
  {
   "cell_type": "code",
   "execution_count": 34,
   "metadata": {},
   "outputs": [
    {
     "data": {
      "text/plain": [
       "444.17735732435955"
      ]
     },
     "execution_count": 34,
     "metadata": {},
     "output_type": "execute_result"
    }
   ],
   "source": [
    "a = np.mean(y) - b * np.mean(X)\n",
    "a"
   ]
  },
  {
   "cell_type": "code",
   "execution_count": 35,
   "metadata": {},
   "outputs": [
    {
     "data": {
      "text/plain": [
       "array([535.89621821, 562.10160703, 942.07974498, 968.2851338 ,\n",
       "       548.99891262, 627.61507909, 585.68645697, 837.25818968,\n",
       "       758.64202321, 732.43663439])"
      ]
     },
     "execution_count": 35,
     "metadata": {},
     "output_type": "execute_result"
    }
   ],
   "source": [
    "y1_hat = a + b * X\n",
    "y1_hat"
   ]
  },
  {
   "cell_type": "markdown",
   "metadata": {},
   "source": [
    "без интерсепта:"
   ]
  },
  {
   "cell_type": "code",
   "execution_count": 40,
   "metadata": {},
   "outputs": [],
   "source": [
    "X2 = X.reshape(10, 1)\n",
    "y2 = y.reshape(10, 1)"
   ]
  },
  {
   "cell_type": "code",
   "execution_count": 42,
   "metadata": {},
   "outputs": [
    {
     "data": {
      "text/plain": [
       "array([5.88982042])"
      ]
     },
     "execution_count": 42,
     "metadata": {},
     "output_type": "execute_result"
    }
   ],
   "source": [
    "D = np.dot(np.linalg.inv(np.dot(X2.T, X2)),X2.T@y)\n",
    "D"
   ]
  },
  {
   "cell_type": "code",
   "execution_count": 43,
   "metadata": {},
   "outputs": [
    {
     "data": {
      "text/plain": [
       "array([ 206.1437147 ,  265.04191891, 1119.06587983, 1177.96408403,\n",
       "        235.59281681,  412.28742941,  318.05030269,  883.47306302,\n",
       "        706.77845042,  647.88024621])"
      ]
     },
     "execution_count": 43,
     "metadata": {},
     "output_type": "execute_result"
    }
   ],
   "source": [
    "y2_hat = D * X\n",
    "y2_hat"
   ]
  },
  {
   "cell_type": "code",
   "execution_count": 44,
   "metadata": {},
   "outputs": [
    {
     "data": {
      "image/png": "[encoded data removed]",
      "text/plain": [
       "<Figure size 432x288 with 1 Axes>"
      ]
     },
     "metadata": {
      "needs_background": "light"
     },
     "output_type": "display_data"
    }
   ],
   "source": [
    "plt.grid()\n",
    "plt.scatter(X, y)\n",
    "plt.plot(X, y1_hat, color='grey')\n",
    "plt.plot(X, y2_hat, color='orange')\n",
    "plt.show()"
   ]
  },
  {
   "cell_type": "markdown",
   "metadata": {},
   "source": [
    "2. Посчитать коэффициент линейной регрессии при заработной плате (zp), используя градиентный спуск (без intercept)."
   ]
  },
  {
   "cell_type": "code",
   "execution_count": 45,
   "metadata": {},
   "outputs": [],
   "source": [
    "X = np.array([35, 45, 190, 200, 40, 70, 54, 150, 120, 110])\n",
    "y = np.array([401, 574, 874, 919, 459, 739, 653, 902, 746, 832])\n",
    "n = len(X)"
   ]
  },
  {
   "cell_type": "code",
   "execution_count": 46,
   "metadata": {},
   "outputs": [],
   "source": [
    "def mse_(B1, y=y, X=X, n=n):\n",
    "    return np.sum((B1*X - y)**2) / n"
   ]
  },
  {
   "cell_type": "code",
   "execution_count": 47,
   "metadata": {},
   "outputs": [
    {
     "name": "stdout",
     "output_type": "stream",
     "text": [
      "iteration: 0, B1 = 9.8867514, mse = 276604.34287384455\n",
      "iteration: 50, B1 = 6.878417278270489, mse = 69981.0567613131\n",
      "iteration: 100, B1 = 6.134338965197076, mse = 57340.5519462072\n",
      "iteration: 150, B1 = 5.950299389277936, mse = 56567.24916418826\n",
      "iteration: 200, B1 = 5.904779227072703, mse = 56519.94114908718\n",
      "iteration: 250, B1 = 5.893520316282229, mse = 56517.04700678632\n",
      "iteration: 300, B1 = 5.890735548696904, mse = 56516.86995307483\n",
      "iteration: 350, B1 = 5.890046767104388, mse = 56516.859121535286\n",
      "iteration: 400, B1 = 5.889876404563293, mse = 56516.8584588988\n",
      "iteration: 450, B1 = 5.88983426726502, mse = 56516.85841836096\n",
      "iteration: 500, B1 = 5.889823845068368, mse = 56516.85841588101\n",
      "iteration: 550, B1 = 5.889821267252808, mse = 56516.85841572929\n",
      "iteration: 600, B1 = 5.88982062965852, mse = 56516.85841572002\n",
      "iteration: 650, B1 = 5.889820471956595, mse = 56516.85841571945\n",
      "iteration: 700, B1 = 5.889820432950761, mse = 56516.85841571941\n",
      "iteration: 750, B1 = 5.889820423303099, mse = 56516.85841571941\n",
      "iteration: 800, B1 = 5.8898204209168545, mse = 56516.85841571941\n",
      "iteration: 850, B1 = 5.889820420326644, mse = 56516.8584157194\n",
      "iteration: 900, B1 = 5.889820420180661, mse = 56516.8584157194\n",
      "iteration: 950, B1 = 5.889820420144554, mse = 56516.85841571943\n",
      "iteration: 1000, B1 = 5.8898204201356235, mse = 56516.85841571941\n"
     ]
    }
   ],
   "source": [
    "alpha = 1e-6\n",
    "B1 = 10\n",
    "for i in range(1001):\n",
    "    B1 -= alpha * (2/n) * np.sum((B1*X - y) * X)\n",
    "    if i % 50 == 0:\n",
    "        print(f'iteration: {i}, B1 = {B1}, mse = {mse_(B1)}')"
   ]
  },
  {
   "cell_type": "markdown",
   "metadata": {},
   "source": [
    "\n",
    "3. В каких случаях для вычисления доверительных интервалов и проверки статистических гипотез используется таблица значений функции Лапласа, а в каких - таблица критических точек распределения Стьюдента?"
   ]
  },
  {
   "cell_type": "markdown",
   "metadata": {},
   "source": [
    "Если известна сигма/дисперсия генеральной совокупности, то используем таблицу значений функции Лапласа. В остальных случаях используем таблицу критических точек распределения Стьюдента."
   ]
  },
  {
   "cell_type": "markdown",
   "metadata": {},
   "source": [
    "\n",
    "*4. Произвести вычисления как в пункте 2, но с вычислением intercept. Учесть, что изменение коэффициентов должно производиться на каждом шаге одновременно (то есть изменение одного коэффициента не должно влиять на изменение другого во время одной итерации)."
   ]
  },
  {
   "cell_type": "code",
   "execution_count": 48,
   "metadata": {},
   "outputs": [],
   "source": [
    "X = np.array([35, 45, 190, 200, 40, 70, 54, 150, 120, 110])\n",
    "y = np.array([401, 574, 874, 919, 459, 739, 653, 902, 746, 832])\n",
    "n = 10"
   ]
  },
  {
   "cell_type": "code",
   "execution_count": 49,
   "metadata": {},
   "outputs": [],
   "source": [
    "def mse2_(B0, B1, y=y, X=X, n=n):\n",
    "    return np.sum((B0 + B1*X - y)**2) / n"
   ]
  },
  {
   "cell_type": "code",
   "execution_count": 50,
   "metadata": {},
   "outputs": [
    {
     "name": "stdout",
     "output_type": "stream",
     "text": [
      "iteration: 0, B0 = 0.169966, B1 = 8.07539, mse = 122360.8044853729\n",
      "iteration: 100000, B0 = 409.03758503899854, B1 = 2.8791831426087984, mse = 6783.640544683958\n",
      "iteration: 200000, B0 = 441.39641524523927, B1 = 2.641007845630212, mse = 6472.375953981324\n",
      "iteration: 300000, B0 = 443.9572751113981, B1 = 2.6221587847940984, mse = 6470.426487736031\n",
      "iteration: 400000, B0 = 444.1599401401525, B1 = 2.6206670805791092, mse = 6470.414278128017\n",
      "iteration: 500000, B0 = 444.1759789380671, B1 = 2.6205490279352976, mse = 6470.414201658608\n",
      "iteration: 600000, B0 = 444.177248239628, B1 = 2.6205396853146192, mse = 6470.414201179677\n",
      "iteration: 700000, B0 = 444.1773486914554, B1 = 2.620538945944757, mse = 6470.414201176677\n",
      "iteration: 800000, B0 = 444.17735664115577, B1 = 2.6205388874314473, mse = 6470.41420117666\n",
      "iteration: 900000, B0 = 444.1773572702843, B1 = 2.620538882800784, mse = 6470.41420117666\n",
      "iteration: 1000000, B0 = 444.17735731999414, B1 = 2.620538882434897, mse = 6470.414201176661\n",
      "iteration: 1100000, B0 = 444.17735732323933, B1 = 2.6205388824110107, mse = 6470.414201176658\n",
      "iteration: 1200000, B0 = 444.17735732323933, B1 = 2.6205388824110107, mse = 6470.414201176658\n",
      "iteration: 1300000, B0 = 444.17735732323933, B1 = 2.6205388824110107, mse = 6470.414201176658\n",
      "iteration: 1400000, B0 = 444.17735732323933, B1 = 2.6205388824110107, mse = 6470.414201176658\n",
      "iteration: 1500000, B0 = 444.17735732323933, B1 = 2.6205388824110107, mse = 6470.414201176658\n"
     ]
    }
   ],
   "source": [
    "alpha = 5e-5\n",
    "B0 = 0.1\n",
    "B1 = 0.1\n",
    "for i in range(1500001):\n",
    "    B0_temp = B0\n",
    "    B0 -= alpha * (2/n) * np.sum((B0_temp + B1*X - y))\n",
    "    B1 -= alpha * (2/n) * np.sum((B0_temp + B1*X - y) * X)\n",
    "    if i % 100000 == 0:\n",
    "        print(f'iteration: {i}, B0 = {B0}, B1 = {B1}, mse = {mse2_(B0, B1)}')"
   ]
  },
  {
   "cell_type": "code",
   "execution_count": null,
   "metadata": {},
   "outputs": [],
   "source": []
  }
 ],
 "metadata": {
  "kernelspec": {
   "display_name": "Python 3",
   "language": "python",
   "name": "python3"
  },
  "language_info": {
   "codemirror_mode": {
    "name": "ipython",
    "version": 3
   },
   "file_extension": ".py",
   "mimetype": "text/x-python",
   "name": "python",
   "nbconvert_exporter": "python",
   "pygments_lexer": "ipython3",
   "version": "3.7.4"
  }
 },
 "nbformat": 4,
 "nbformat_minor": 2
}
